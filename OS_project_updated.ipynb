{
 "cells": [
  {
   "cell_type": "markdown",
   "metadata": {},
   "source": [
    "# PROCESS CREATION AND INTERACTION PROJECT - BANK ACCOUNT\n",
    "\n",
    "___"
   ]
  },
  {
   "cell_type": "markdown",
   "metadata": {
    "colab_type": "text",
    "id": "tDRi7-ey_syA"
   },
   "source": [
    "### IMPORTING LIBRARIES\n",
    "___"
   ]
  },
  {
   "cell_type": "code",
   "execution_count": 1,
   "metadata": {
    "colab": {},
    "colab_type": "code",
    "id": "mV7eK22p-Oyp"
   },
   "outputs": [],
   "source": [
    "import os\n",
    "from multiprocessing import Process, current_process\n",
    "import psycopg2\n",
    "# for using postgresql database"
   ]
  },
  {
   "cell_type": "markdown",
   "metadata": {
    "colab_type": "text",
    "id": "0__FTiWuADuz"
   },
   "source": [
    "# CREATING CLASS\n",
    "___"
   ]
  },
  {
   "cell_type": "code",
   "execution_count": 2,
   "metadata": {
    "colab": {},
    "colab_type": "code",
    "id": "iGtjd8I5-QwZ"
   },
   "outputs": [],
   "source": [
    "class BankAccount:\n",
    "    # initialization function\n",
    "    def __init__(self, c_name, account_type, balance_amount):\n",
    "        self.c_name = c_name\n",
    "        #self.account_number = account_number\n",
    "        self.account_type = account_type\n",
    "        self.balance_amount = balance_amount\n",
    "        # basically create an account\n",
    "        # then store it into a data base"
   ]
  },
  {
   "cell_type": "code",
   "execution_count": 3,
   "metadata": {
    "colab": {},
    "colab_type": "code",
    "id": "5RgUdtvY-QzG"
   },
   "outputs": [],
   "source": [
    "def create_account_table():\n",
    "    conn = psycopg2.connect(\"dbname='accounts' user='postgres' password='cyant695' host='localhost' port='5432'\")\n",
    "    cur = conn.cursor()\n",
    "    cur.execute(\"CREATE TABLE IF NOT EXISTS account_holder (Account_No SERIAL PRIMARY KEY, Username TEXT, Account_Type TEXT, Balance REAL)\")\n",
    "    conn.commit()\n",
    "    conn.close()\n",
    "    # the account number is the primary key for all the manipulation functions\n"
   ]
  },
  {
   "cell_type": "code",
   "execution_count": 4,
   "metadata": {
    "colab": {},
    "colab_type": "code",
    "id": "FvyYRK40-Q17"
   },
   "outputs": [],
   "source": [
    "def create_account(account):\n",
    "    print()\n",
    "    # here the argument account is an object of the class\n",
    "    # basically an insert function\n",
    "    # an account has name, ac_no, ac_type(savings / credits), balance\n",
    "    # the balance is right now initiailzed to 0.00\n",
    "    conn = psycopg2.connect(\"dbname='accounts' user='postgres' password='cyant695' host='localhost' port='5432'\")\n",
    "    cur = conn.cursor()\n",
    "    cur.execute(\"INSERT INTO account_holder VALUES(DEFAULT,%s,%s,%s)\", (account.c_name, account.account_type, account.balance_amount))\n",
    "    conn.commit()\n",
    "    conn.close()\n",
    "    # created an account"
   ]
  },
  {
   "cell_type": "markdown",
   "metadata": {
    "colab_type": "text",
    "id": "o5X5HPthA6kG"
   },
   "source": [
    "## **PROCESS 1**\n",
    "___"
   ]
  },
  {
   "cell_type": "code",
   "execution_count": 5,
   "metadata": {
    "colab": {},
    "colab_type": "code",
    "id": "Q4OawsWx-Q4y"
   },
   "outputs": [],
   "source": [
    "def add_account_to_db(account):\n",
    "    # adding the account to the database\n",
    "    # here this will be a process\n",
    "    # process 1\n",
    "    create_account(account)"
   ]
  },
  {
   "cell_type": "markdown",
   "metadata": {
    "colab_type": "text",
    "id": "1XzbelqQBEhR"
   },
   "source": [
    "## **PROCESS 2**\n",
    "___"
   ]
  },
  {
   "cell_type": "code",
   "execution_count": 6,
   "metadata": {
    "colab": {},
    "colab_type": "code",
    "id": "qgImO_Ep-Q7n"
   },
   "outputs": [],
   "source": [
    "def deposit_in(acc_no, acc_type, amount):\n",
    "    # get the values\n",
    "    # retrieve the table, update the values\n",
    "    # add the amount to the balance\n",
    "    # and all of it should be another process\n",
    "    # process 2\n",
    "    print()\n",
    "    # enter the acc_no, acc_type and amount\n",
    "    # only acc_no and acc_type are required\n",
    "    conn = psycopg2.connect(\"dbname='accounts' user='postgres' password='cyant695' host='localhost' port='5432'\")\n",
    "    cur = conn.cursor()\n",
    "    cur.execute(\"SELECT Balance FROM account_holder WHERE Account_No=%s AND Account_Type=%s\", (acc_no, acc_type))\n",
    "    return_balance = cur.fetchall()\n",
    "    # it should be a single valued tuple\n",
    "    return_balance = float(list(return_balance[0])[0])\n",
    "    new_balance = return_balance + amount\n",
    "    cur.execute(\"UPDATE account_holder SET Balance=%s WHERE Account_No=%s AND Account_Type=%s\", (new_balance, acc_no, acc_type))\n",
    "    conn.commit()\n",
    "    conn.close()"
   ]
  },
  {
   "cell_type": "markdown",
   "metadata": {
    "colab_type": "text",
    "id": "mYuEwn_QBIrm"
   },
   "source": [
    "## **PROCESS 3**\n",
    "___"
   ]
  },
  {
   "cell_type": "code",
   "execution_count": 7,
   "metadata": {
    "colab": {},
    "colab_type": "code",
    "id": "zu7er0vN-Q-V"
   },
   "outputs": [],
   "source": [
    "def withdraw_out(acc_no, acc_type, amount):\n",
    "    # get the values\n",
    "    # retrieve the table, update the values\n",
    "    # subtract the amount from the balance\n",
    "    # if and only if previous_balance >= amount_to_be_withdrawn\n",
    "    # process 3\n",
    "    print()\n",
    "    # enter the acc_no, acc_type and amount\n",
    "    # only the acc_no and acc_type are required\n",
    "    conn = psycopg2.connect(\"dbname='accounts' user='postgres' password='cyant695' host='localhost' port='5432'\")\n",
    "    cur = conn.cursor()\n",
    "    cur.execute(\"SELECT Balance FROM account_holder WHERE Account_No=%s AND Account_Type=%s\", (acc_no, acc_type))\n",
    "    return_balance = cur.fetchall()\n",
    "    # it should be a single valued tuple\n",
    "    return_balance = float(list(return_balance[0])[0])\n",
    "    if return_balance >= amount:\n",
    "        new_balance = return_balance - amount\n",
    "        cur.execute(\"UPDATE account_holder SET Balance=%s WHERE Account_No=%s and Account_Type=%s\", (new_balance, acc_no, acc_type))\n",
    "        conn.commit()\n",
    "        conn.close()\n",
    "    else:\n",
    "        print('Insufficient balance in your account...')"
   ]
  },
  {
   "cell_type": "markdown",
   "metadata": {
    "colab_type": "text",
    "id": "QNwa468DBNMY"
   },
   "source": [
    "## **PROCESS 4**\n",
    "___"
   ]
  },
  {
   "cell_type": "code",
   "execution_count": 8,
   "metadata": {
    "colab": {},
    "colab_type": "code",
    "id": "OmpeiGaZ-RBC"
   },
   "outputs": [],
   "source": [
    "def display_bal(acc_no):\n",
    "    # retrieve the table\n",
    "    # show the consumer_name and balance\n",
    "    # process 4\n",
    "    print()\n",
    "    # display the costumer name and the balance\n",
    "    conn = psycopg2.connect(\"dbname='accounts' user='postgres' password='cyant695' host='localhost' port='5432'\")\n",
    "    cur = conn.cursor()\n",
    "    cur.execute(\"SELECT Username, Balance FROM account_holder WHERE Account_No=%s\", (acc_no,))\n",
    "    user_and_balance = cur.fetchall()\n",
    "    user_and_balance = list(user_and_balance)\n",
    "    user_name = user_and_balance[0][0]\n",
    "    balance = user_and_balance[0][1]\n",
    "    balance = float(balance)\n",
    "    print('Hello, ', user_name)\n",
    "    print('Your balance is ', balance)\n",
    "    conn.close()"
   ]
  },
  {
   "cell_type": "markdown",
   "metadata": {
    "colab_type": "text",
    "id": "1t3sbY29AKeB"
   },
   "source": [
    "# MAIN FUNCTION\n",
    "\n",
    "## **PARENT PROCESS**\n",
    "___"
   ]
  },
  {
   "cell_type": "code",
   "execution_count": null,
   "metadata": {
    "colab": {
     "base_uri": "https://localhost:8080/",
     "height": 454
    },
    "colab_type": "code",
    "executionInfo": {
     "elapsed": 1426,
     "status": "error",
     "timestamp": 1563468598180,
     "user": {
      "displayName": "Sanjay 10",
      "photoUrl": "",
      "userId": "13927087453855924232"
     },
     "user_tz": -330
    },
    "id": "JqkYPeBJ-RDw",
    "outputId": "299cc7a5-60c5-4424-d949-7c061144a471"
   },
   "outputs": [
    {
     "name": "stdout",
     "output_type": "stream",
     "text": [
      "table created\n",
      "\n",
      "bank_account_manager\n",
      "1. Create new account\n",
      "2. Deposit into account\n",
      "3. Withdraw from account\n",
      "4. Show balance\n",
      "Enter your choice1\n",
      "\n",
      "Enter username: midas\n",
      "Enter account type (sb - savings, cur - current):sb\n",
      "Enquire Again? (y/n) y\n",
      "\n",
      "bank_account_manager\n",
      "1. Create new account\n",
      "2. Deposit into account\n",
      "3. Withdraw from account\n",
      "4. Show balance\n",
      "Enter your choice4\n",
      "\n",
      "enter the account number 1\n",
      "Enquire Again? (y/n) y\n",
      "\n",
      "bank_account_manager\n",
      "1. Create new account\n",
      "2. Deposit into account\n",
      "3. Withdraw from account\n",
      "4. Show balance\n",
      "Enter your choice1\n",
      "\n"
     ]
    }
   ],
   "source": [
    "\n",
    "# this is the parent process\n",
    "# it works when\n",
    "if __name__ == '__main__':\n",
    "\n",
    "    processes = []\n",
    "    create_account_table()\n",
    "    # ac_num = 1\n",
    "    print('table created')\n",
    "    enquiry = 'y'\n",
    "    while enquiry == 'y' or enquiry == 'Y':\n",
    "        print('\\nbank_account_manager')\n",
    "        print('1. Create new account\\n2. Deposit into account\\n3. Withdraw from account\\n4. Show balance')\n",
    "        choice = int(input('Enter your choice'))\n",
    "        if choice == 1:\n",
    "            print()\n",
    "            # create account\n",
    "            # create account_process\n",
    "            username = input('Enter username: ')\n",
    "            init_balance = 0.0\n",
    "            # let the initial balance be taken as zero\n",
    "            account_type = input('Enter account type (sb - savings, cur - current):')\n",
    "            # account_number = ac_num\n",
    "            # ac_num += 1\n",
    "            # now create a BankAccount Object\n",
    "            new_account = BankAccount(username, account_type, init_balance)\n",
    "            # create a new process\n",
    "            account_process = Process(target=create_account, args=(new_account,))\n",
    "            account_process.start()\n",
    "\n",
    "        elif choice == 2:\n",
    "            print()\n",
    "            # deposit into the account\n",
    "            account_num = int(input('enter the account number: '))\n",
    "            account_type = input('enter the account type')\n",
    "            insert_amount = round(float(input('enter the amount to be deposited: ')), 2)\n",
    "            deposit_process = Process(target=deposit_in, args=(account_num, account_type, insert_amount))\n",
    "            deposit_process.start()\n",
    "\n",
    "        elif choice == 3:\n",
    "            print()\n",
    "            # withdraw from account\n",
    "            account_num = int(input('enter the account number: '))\n",
    "            account_type = input('enter the account type')\n",
    "            withdraw_amount = round(float(input('enter amount to be withdrawn: ')), 2)\n",
    "            withdraw_process = Process(target=withdraw_out, args=(account_num, account_type, withdraw_amount))\n",
    "            withdraw_process.start()\n",
    "\n",
    "        elif choice == 4:\n",
    "            print()\n",
    "            # display the balance\n",
    "            account_num = int(input('enter the account number '))\n",
    "            display_process = Process(target=display_bal, args=(account_num,))\n",
    "            display_process.start()\n",
    "\n",
    "        else:\n",
    "            print('Enter a valid choice...')\n",
    "\n",
    "        enquiry = input('Enquire Again? (y/n) ')\n",
    "\n",
    "    print('Thanks for using our service :)')"
   ]
  },
  {
   "cell_type": "code",
   "execution_count": null,
   "metadata": {
    "colab": {},
    "colab_type": "code",
    "id": "OpFOlzyV-RGm"
   },
   "outputs": [],
   "source": []
  },
  {
   "cell_type": "code",
   "execution_count": null,
   "metadata": {
    "colab": {},
    "colab_type": "code",
    "id": "eg5EdCXJ-RJS"
   },
   "outputs": [],
   "source": []
  },
  {
   "cell_type": "code",
   "execution_count": null,
   "metadata": {
    "colab": {},
    "colab_type": "code",
    "id": "1Uwhkvoi-RMA"
   },
   "outputs": [],
   "source": []
  },
  {
   "cell_type": "code",
   "execution_count": null,
   "metadata": {
    "colab": {},
    "colab_type": "code",
    "id": "DcMYEL3Q-RO_"
   },
   "outputs": [],
   "source": []
  },
  {
   "cell_type": "code",
   "execution_count": null,
   "metadata": {
    "colab": {},
    "colab_type": "code",
    "id": "9bYEjjYt-RRz"
   },
   "outputs": [],
   "source": []
  },
  {
   "cell_type": "code",
   "execution_count": null,
   "metadata": {
    "colab": {},
    "colab_type": "code",
    "id": "zmQqhDjK-RUg"
   },
   "outputs": [],
   "source": []
  },
  {
   "cell_type": "code",
   "execution_count": null,
   "metadata": {
    "colab": {},
    "colab_type": "code",
    "id": "bQRoxoML-RXO"
   },
   "outputs": [],
   "source": []
  },
  {
   "cell_type": "code",
   "execution_count": null,
   "metadata": {
    "colab": {},
    "colab_type": "code",
    "id": "4tsSPuOt-RZ9"
   },
   "outputs": [],
   "source": []
  },
  {
   "cell_type": "code",
   "execution_count": null,
   "metadata": {
    "colab": {},
    "colab_type": "code",
    "id": "Ifp7n2CW-Rcx"
   },
   "outputs": [],
   "source": []
  },
  {
   "cell_type": "code",
   "execution_count": null,
   "metadata": {
    "colab": {},
    "colab_type": "code",
    "id": "eI3phoch-Rfm"
   },
   "outputs": [],
   "source": []
  },
  {
   "cell_type": "code",
   "execution_count": null,
   "metadata": {
    "colab": {},
    "colab_type": "code",
    "id": "bsI4zuUp-RiT"
   },
   "outputs": [],
   "source": []
  },
  {
   "cell_type": "code",
   "execution_count": null,
   "metadata": {
    "colab": {},
    "colab_type": "code",
    "id": "JH30lZMX-RlS"
   },
   "outputs": [],
   "source": []
  },
  {
   "cell_type": "code",
   "execution_count": null,
   "metadata": {
    "colab": {},
    "colab_type": "code",
    "id": "gQSg48Gg-RoA"
   },
   "outputs": [],
   "source": []
  },
  {
   "cell_type": "code",
   "execution_count": null,
   "metadata": {
    "colab": {},
    "colab_type": "code",
    "id": "WcbRIKtF-Rq9"
   },
   "outputs": [],
   "source": []
  }
 ],
 "metadata": {
  "accelerator": "TPU",
  "colab": {
   "name": "OS_project.ipynb",
   "provenance": [],
   "version": "0.3.2"
  },
  "kernelspec": {
   "display_name": "Python 3",
   "language": "python",
   "name": "python3"
  },
  "language_info": {
   "codemirror_mode": {
    "name": "ipython",
    "version": 3
   },
   "file_extension": ".py",
   "mimetype": "text/x-python",
   "name": "python",
   "nbconvert_exporter": "python",
   "pygments_lexer": "ipython3",
   "version": "3.7.3"
  }
 },
 "nbformat": 4,
 "nbformat_minor": 1
}
